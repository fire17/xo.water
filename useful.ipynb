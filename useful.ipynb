{
 "cells": [
  {
   "attachments": {},
   "cell_type": "markdown",
   "metadata": {},
   "source": [
    "\n",
    "### Installation\n",
    "________________________\n",
    "#### Quick installation (does everything below)\n",
    "```bash\n",
    "# replace with new gist \n",
    "curl -fsSL https://gist.github.com/fire17/1b2b3b4b5c6c7d8d9e0a3c4d5e5d6e7f/raw | bash\n",
    "```\n",
    "\n",
    "## or\n",
    "________________________\n",
    "#### install redis\n",
    "```bash\n",
    "# install redis Official installation method:\n",
    "# https://redis.io/docs/getting-started/installation/install-redis-on-linux/\n",
    "# Quick installation method:\n",
    "curl -fsSL https://gist.github.com/fire17/e156216333bf21b30769f86d2a2b4d39/raw | bash\n",
    "```\n",
    "________________________\n",
    "#### install xo.redis\n",
    "```bash\n",
    "python3 -m pip install xo.redis --upgrade\n",
    "```\n",
    "________________________\n"
   ]
  },
  {
   "attachments": {},
   "cell_type": "markdown",
   "metadata": {},
   "source": [
    "______________________________________\n",
    "run openwa with npx\n",
    "```bash\n",
    "npx @open-wa/wa-automate --socket -p 8085 -k \"$WA_KEY\"\n",
    "```\n",
    "______________________________________\n"
   ]
  },
  {
   "attachments": {},
   "cell_type": "markdown",
   "metadata": {},
   "source": [
    "### Usefull Examples"
   ]
  },
  {
   "cell_type": "code",
   "execution_count": null,
   "metadata": {},
   "outputs": [],
   "source": [
    "from water import water\n",
    "\n",
    "# should be connected to whatsapp"
   ]
  },
  {
   "cell_type": "code",
   "execution_count": null,
   "metadata": {},
   "outputs": [],
   "source": [
    "# Send message\n"
   ]
  }
 ],
 "metadata": {
  "kernelspec": {
   "display_name": "Python 3",
   "language": "python",
   "name": "python3"
  },
  "language_info": {
   "name": "python",
   "version": "3.10.4 (main, Nov 29 2022, 20:00:25) [GCC 9.4.0]"
  },
  "orig_nbformat": 4,
  "vscode": {
   "interpreter": {
    "hash": "3ad933181bd8a04b432d3370b9dc3b0662ad032c4dfaa4e4f1596c548f763858"
   }
  }
 },
 "nbformat": 4,
 "nbformat_minor": 2
}
